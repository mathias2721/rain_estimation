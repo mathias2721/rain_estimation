{
 "cells": [
  {
   "cell_type": "code",
   "execution_count": null,
   "id": "422464d1-25c8-4be1-8996-d1ad90dd536f",
   "metadata": {},
   "outputs": [],
   "source": [
    "vent (speed, direction)\n",
    "couverture nuageuse\n",
    "temperature\n",
    "sea level pressure\n",
    "\n",
    "temperature (3D)\n",
    "humidity (3D)\n",
    "water vapor\n",
    "\n",
    "surface wind\n",
    "\n",
    "pressure level from 500-1000 hpa"
   ]
  },
  {
   "cell_type": "code",
   "execution_count": null,
   "id": "07fbceaa-8aff-4389-a545-4af30e23e40e",
   "metadata": {},
   "outputs": [],
   "source": [
    "input : variable \n",
    "output : regresser sur : radar - gauje (disparitee)"
   ]
  },
  {
   "cell_type": "code",
   "execution_count": null,
   "id": "29c8ff85-c8f9-4a15-8949-8bae9160b828",
   "metadata": {},
   "outputs": [],
   "source": [
    "modele : (gauje par gauje vs toute les gauje)\n",
    "-correlation\n",
    "-modele lineaire\n",
    "-modele non lineaire"
   ]
  },
  {
   "cell_type": "code",
   "execution_count": null,
   "id": "aaeb6e20-3c81-455a-96e4-ac83f1f55a07",
   "metadata": {},
   "outputs": [],
   "source": [
    "Merit : dataset of elevation"
   ]
  },
  {
   "cell_type": "code",
   "execution_count": null,
   "id": "a7b941f9-584b-4f6f-a77a-cc822f40e5b0",
   "metadata": {},
   "outputs": [],
   "source": []
  },
  {
   "cell_type": "code",
   "execution_count": 7,
   "id": "58ff2401-8181-4617-af5d-107d610ad787",
   "metadata": {
    "tags": []
   },
   "outputs": [],
   "source": [
    "import cdsapi\n",
    "\n",
    "c = cdsapi.Client()\n",
    "\n",
    "all_variables = ['temperature', 'v_component_of_wind', 'vorticity','fraction_of_cloud_cover', 'geopotential', 'ozone_mass_mixing_ratio',\n",
    "            'potential_vorticity', 'relative_humidity', 'specific_cloud_ice_water_content',\n",
    "            'specific_cloud_liquid_water_content', 'specific_humidity', 'specific_rain_water_content',\n",
    "            'specific_snow_water_content', 'u_component_of_wind', 'vertical_velocity']"
   ]
  },
  {
   "cell_type": "code",
   "execution_count": null,
   "id": "a87da2e6-26de-4aac-951e-7aa083377483",
   "metadata": {
    "tags": []
   },
   "outputs": [
    {
     "name": "stderr",
     "output_type": "stream",
     "text": [
      "2024-07-12 12:21:31,644 INFO Welcome to the CDS\n",
      "2024-07-12 12:21:31,646 INFO Sending request to https://cds.climate.copernicus.eu/api/v2/resources/reanalysis-era5-pressure-levels\n",
      "2024-07-12 12:21:31,941 INFO Request is queued\n",
      "2024-07-12 12:27:54,534 INFO Request is running\n",
      "2024-07-12 13:00:11,871 INFO Request is completed\n",
      "2024-07-12 13:00:11,872 INFO Downloading https://download-0016.copernicus-climate.eu/cache-compute-0016/cache/data9/adaptor.mars.internal-1720756707.7304635-19198-10-0d244d3e-95ea-414b-8855-9a57fd123366.nc to /home/mathias/Desktop/data/rain/era5_pressure/fraction_of_cloud_cover.nc (4.2M)\n",
      "2024-07-12 13:00:15,583 INFO Download rate 1.1M/s                               \n",
      "2024-07-12 13:00:16,115 INFO Welcome to the CDS\n",
      "2024-07-12 13:00:16,116 INFO Sending request to https://cds.climate.copernicus.eu/api/v2/resources/reanalysis-era5-pressure-levels\n",
      "2024-07-12 13:00:16,432 INFO Request is queued\n",
      "2024-07-12 13:01:33,726 INFO Request is running\n",
      "2024-07-12 13:47:00,443 INFO Request is completed\n",
      "2024-07-12 13:47:00,445 INFO Downloading https://download-0001-clone.copernicus-climate.eu/cache-compute-0001/cache/data7/adaptor.mars.internal-1720759494.974592-16714-15-399bf26d-babb-462d-b44f-df7e896954d1.nc to /home/mathias/Desktop/data/rain/era5_pressure/geopotential.nc (4.2M)\n",
      "2024-07-12 13:47:04,053 INFO Download rate 1.2M/s                               \n",
      "2024-07-12 13:47:04,612 INFO Welcome to the CDS\n",
      "2024-07-12 13:47:04,613 INFO Sending request to https://cds.climate.copernicus.eu/api/v2/resources/reanalysis-era5-pressure-levels\n",
      "2024-07-12 13:47:04,926 INFO Request is queued\n",
      "2024-07-12 13:47:07,968 INFO Request is running\n",
      "2024-07-12 14:31:48,001 INFO Request is completed\n",
      "2024-07-12 14:31:48,003 INFO Downloading https://download-0013-clone.copernicus-climate.eu/cache-compute-0013/cache/data9/adaptor.mars.internal-1720762193.3001966-1318-11-5027b7a7-302e-42a8-8e97-f3fad6c24da0.nc to /home/mathias/Desktop/data/rain/era5_pressure/ozone_mass_mixing_ratio.nc (4.2M)\n",
      "2024-07-12 14:31:51,468 INFO Download rate 1.2M/s                               \n",
      "2024-07-12 14:31:52,001 INFO Welcome to the CDS\n",
      "2024-07-12 14:31:52,003 INFO Sending request to https://cds.climate.copernicus.eu/api/v2/resources/reanalysis-era5-pressure-levels\n",
      "2024-07-12 14:31:52,323 INFO Request is queued\n",
      "2024-07-12 14:31:55,356 INFO Request is running\n",
      "2024-07-12 15:16:35,621 INFO Request is completed\n",
      "2024-07-12 15:16:35,622 INFO Downloading https://download-0004-clone.copernicus-climate.eu/cache-compute-0004/cache/data8/adaptor.mars.internal-1720764841.4986086-16353-11-6e9bf658-9f9a-47c0-be53-4653137c7607.nc to /home/mathias/Desktop/data/rain/era5_pressure/potential_vorticity.nc (4.2M)\n",
      "2024-07-12 15:16:39,581 INFO Download rate 1.1M/s                               \n",
      "2024-07-12 15:16:40,122 INFO Welcome to the CDS\n",
      "2024-07-12 15:16:40,123 INFO Sending request to https://cds.climate.copernicus.eu/api/v2/resources/reanalysis-era5-pressure-levels\n",
      "2024-07-12 15:16:40,446 INFO Request is queued\n",
      "2024-07-12 15:16:43,488 INFO Request is running\n"
     ]
    }
   ],
   "source": [
    "for var in all_variables:\n",
    "    c.retrieve(\n",
    "        'reanalysis-era5-pressure-levels',\n",
    "        {\n",
    "            'product_type': 'reanalysis',\n",
    "            'variable': var,\n",
    "            'pressure_level': [\n",
    "                '500', '550', '600',\n",
    "                '650', '700', '750',\n",
    "                '775', '800', '825',\n",
    "                '850', '875', '900',\n",
    "                '925', '950', '975',\n",
    "                '1000',\n",
    "            ],\n",
    "            'year': '2010',\n",
    "            'month': [\n",
    "                '01', '02', '03',\n",
    "            ],\n",
    "            'day': [\n",
    "                '01', '02', '03',\n",
    "                '04', '05', '06',\n",
    "                '07', '08', '09',\n",
    "                '10', '11', '12',\n",
    "                '13', '14', '15',\n",
    "                '16', '17', '18',\n",
    "                '19', '20', '21',\n",
    "                '22', '23', '24',\n",
    "                '25', '26', '27',\n",
    "                '28', '29', '30',\n",
    "                '31',\n",
    "            ],\n",
    "            'time': [\n",
    "                '00:00', '01:00', '02:00',\n",
    "                '03:00', '04:00', '05:00',\n",
    "                '06:00', '07:00', '08:00',\n",
    "                '09:00', '10:00', '11:00',\n",
    "                '12:00', '13:00', '14:00',\n",
    "                '15:00', '16:00', '17:00',\n",
    "                '18:00', '19:00', '20:00',\n",
    "                '21:00', '22:00', '23:00',\n",
    "            ],\n",
    "            'area': [\n",
    "                36.7, 136.5, 35,\n",
    "                138.5,\n",
    "            ],\n",
    "            'format': 'netcdf',\n",
    "        },\n",
    "        f'/home/mathias/Desktop/data/rain/era5_pressure/{var}.nc')"
   ]
  },
  {
   "cell_type": "code",
   "execution_count": null,
   "id": "dc7941f9-2f5c-491f-a179-e82456b76fa0",
   "metadata": {},
   "outputs": [],
   "source": []
  }
 ],
 "metadata": {
  "kernelspec": {
   "display_name": "hvplot-env",
   "language": "python",
   "name": "hvplot-env"
  },
  "language_info": {
   "codemirror_mode": {
    "name": "ipython",
    "version": 3
   },
   "file_extension": ".py",
   "mimetype": "text/x-python",
   "name": "python",
   "nbconvert_exporter": "python",
   "pygments_lexer": "ipython3",
   "version": "3.11.6"
  }
 },
 "nbformat": 4,
 "nbformat_minor": 5
}
