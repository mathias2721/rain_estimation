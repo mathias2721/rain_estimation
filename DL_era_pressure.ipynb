{
 "cells": [
  {
   "cell_type": "code",
   "execution_count": 9,
   "id": "58ff2401-8181-4617-af5d-107d610ad787",
   "metadata": {
    "tags": []
   },
   "outputs": [],
   "source": [
    "import cdsapi\n",
    "\n",
    "#Note : Le DL prend 12H\n",
    "\n",
    "#Choose the PATH \n",
    "DL_PATH = \"\"\n",
    "\n",
    "c = cdsapi.Client()\n",
    "#'temperature', 'v_component_of_wind', 'vorticity','fraction_of_cloud_cover', 'geopotential', 'ozone_mass_mixing_ratio',\n",
    "#            'potential_vorticity', 'relative_humidity', 'specific_cloud_ice_water_content'\n",
    "all_variables = [ 'temperature', 'v_component_of_wind', 'vorticity','fraction_of_cloud_cover', 'geopotential', 'ozone_mass_mixing_ratio',\n",
    "            'potential_vorticity',\n",
    "            'specific_cloud_liquid_water_content', 'specific_humidity', 'specific_rain_water_content',\n",
    "            'specific_snow_water_content', 'u_component_of_wind', 'vertical_velocity']"
   ]
  },
  {
   "cell_type": "code",
   "execution_count": 10,
   "id": "a87da2e6-26de-4aac-951e-7aa083377483",
   "metadata": {
    "tags": []
   },
   "outputs": [
    {
     "name": "stderr",
     "output_type": "stream",
     "text": [
      "2024-07-12 21:19:15,768 INFO Welcome to the CDS\n",
      "2024-07-12 21:19:15,769 INFO Sending request to https://cds.climate.copernicus.eu/api/v2/resources/reanalysis-era5-pressure-levels\n",
      "2024-07-12 21:19:16,196 INFO Request is completed\n",
      "2024-07-12 21:19:16,198 INFO Downloading https://download-0015-clone.copernicus-climate.eu/cache-compute-0015/cache/data1/adaptor.mars.internal-1720772881.361588-11701-7-97382ae5-c52d-46f7-8239-9030b9b1e34a.nc to /home/mathias/Desktop/data/rain/era5_pressure/specific_cloud_liquid_water_content.nc (4.2M)\n",
      "2024-07-12 21:19:19,702 INFO Download rate 1.2M/s                               \n",
      "2024-07-12 21:19:20,235 INFO Welcome to the CDS\n",
      "2024-07-12 21:19:20,236 INFO Sending request to https://cds.climate.copernicus.eu/api/v2/resources/reanalysis-era5-pressure-levels\n",
      "2024-07-12 21:19:20,651 INFO Downloading https://download-0016.copernicus-climate.eu/cache-compute-0016/cache/data6/adaptor.mars.internal-1720775644.631703-30380-18-e98bcab1-d2e7-4d59-a6b2-510744a16577.nc to /home/mathias/Desktop/data/rain/era5_pressure/specific_humidity.nc (4.2M)\n",
      "2024-07-12 21:19:24,051 INFO Download rate 1.2M/s                               \n",
      "2024-07-12 21:19:24,580 INFO Welcome to the CDS\n",
      "2024-07-12 21:19:24,581 INFO Sending request to https://cds.climate.copernicus.eu/api/v2/resources/reanalysis-era5-pressure-levels\n",
      "2024-07-12 21:19:25,100 INFO Downloading https://download-0014-clone.copernicus-climate.eu/cache-compute-0014/cache/data4/adaptor.mars.internal-1720778318.4290833-13840-12-d0963eea-c5d1-45e4-b61f-5ac531a9afa9.nc to /home/mathias/Desktop/data/rain/era5_pressure/specific_rain_water_content.nc (4.2M)\n",
      "2024-07-12 21:19:28,826 INFO Download rate 1.1M/s                               \n",
      "2024-07-12 21:19:29,358 INFO Welcome to the CDS\n",
      "2024-07-12 21:19:29,360 INFO Sending request to https://cds.climate.copernicus.eu/api/v2/resources/reanalysis-era5-pressure-levels\n",
      "2024-07-12 21:19:29,823 INFO Downloading https://download-0019.copernicus-climate.eu/cache-compute-0019/cache/data3/adaptor.mars.internal-1720781023.5153143-6344-5-67b3524d-eef9-43f2-9378-9c9cb5f0a001.nc to /home/mathias/Desktop/data/rain/era5_pressure/specific_snow_water_content.nc (4.2M)\n",
      "2024-07-12 21:19:33,825 INFO Download rate 1M/s                                 \n",
      "2024-07-12 21:19:34,356 INFO Welcome to the CDS\n",
      "2024-07-12 21:19:34,357 INFO Sending request to https://cds.climate.copernicus.eu/api/v2/resources/reanalysis-era5-pressure-levels\n",
      "2024-07-12 21:19:34,791 INFO Downloading https://download-0004-clone.copernicus-climate.eu/cache-compute-0004/cache/data8/adaptor.mars.internal-1720783928.2304032-3306-7-5417adf4-e8d2-4400-bcbd-d4c239730d44.nc to /home/mathias/Desktop/data/rain/era5_pressure/u_component_of_wind.nc (4.2M)\n",
      "2024-07-12 21:19:38,492 INFO Download rate 1.1M/s                               \n",
      "2024-07-12 21:19:39,019 INFO Welcome to the CDS\n",
      "2024-07-12 21:19:39,020 INFO Sending request to https://cds.climate.copernicus.eu/api/v2/resources/reanalysis-era5-pressure-levels\n",
      "2024-07-12 21:19:39,368 INFO Downloading https://download-0012-clone.copernicus-climate.eu/cache-compute-0012/cache/data7/adaptor.mars.internal-1720786674.7752624-31411-18-5aa79a51-82de-4097-86e6-ad04ad36d1a9.nc to /home/mathias/Desktop/data/rain/era5_pressure/vertical_velocity.nc (4.2M)\n",
      "2024-07-12 21:19:41,746 INFO Download rate 1.8M/s                               \n"
     ]
    }
   ],
   "source": [
    "for var in all_variables:\n",
    "    c.retrieve(\n",
    "        'reanalysis-era5-pressure-levels',\n",
    "        {\n",
    "            'product_type': 'reanalysis',\n",
    "            'variable': var,\n",
    "            'pressure_level': [\n",
    "                '500', '550', '600',\n",
    "                '650', '700', '750',\n",
    "                '775', '800', '825',\n",
    "                '850', '875', '900',\n",
    "                '925', '950', '975',\n",
    "                '1000',\n",
    "            ],\n",
    "            'year': '2010',\n",
    "            'month': [\n",
    "                '01', '02', '03',\n",
    "            ],\n",
    "            'day': [\n",
    "                '01', '02', '03',\n",
    "                '04', '05', '06',\n",
    "                '07', '08', '09',\n",
    "                '10', '11', '12',\n",
    "                '13', '14', '15',\n",
    "                '16', '17', '18',\n",
    "                '19', '20', '21',\n",
    "                '22', '23', '24',\n",
    "                '25', '26', '27',\n",
    "                '28', '29', '30',\n",
    "                '31',\n",
    "            ],\n",
    "            'time': [\n",
    "                '00:00', '01:00', '02:00',\n",
    "                '03:00', '04:00', '05:00',\n",
    "                '06:00', '07:00', '08:00',\n",
    "                '09:00', '10:00', '11:00',\n",
    "                '12:00', '13:00', '14:00',\n",
    "                '15:00', '16:00', '17:00',\n",
    "                '18:00', '19:00', '20:00',\n",
    "                '21:00', '22:00', '23:00',\n",
    "            ],\n",
    "            'area': [\n",
    "                36.7, 136.5, 35,\n",
    "                138.5,\n",
    "            ],\n",
    "            'format': 'netcdf',\n",
    "        },\n",
    "        f'{DL_PATH}{var}.nc')"
   ]
  },
  {
   "cell_type": "code",
   "execution_count": null,
   "id": "dc7941f9-2f5c-491f-a179-e82456b76fa0",
   "metadata": {},
   "outputs": [],
   "source": []
  }
 ],
 "metadata": {
  "kernelspec": {
   "display_name": "hvplot-env",
   "language": "python",
   "name": "hvplot-env"
  },
  "language_info": {
   "codemirror_mode": {
    "name": "ipython",
    "version": 3
   },
   "file_extension": ".py",
   "mimetype": "text/x-python",
   "name": "python",
   "nbconvert_exporter": "python",
   "pygments_lexer": "ipython3",
   "version": "3.11.6"
  }
 },
 "nbformat": 4,
 "nbformat_minor": 5
}
